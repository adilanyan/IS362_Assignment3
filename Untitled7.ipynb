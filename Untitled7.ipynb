{
 "cells": [
  {
   "cell_type": "code",
   "execution_count": null,
   "metadata": {},
   "outputs": [],
   "source": [
    "import numpy as np\n",
    "import pandas as pd\n",
    "from pandas import DataFrame, read_csv\n",
    "import os\n",
    "%matplotlib inline\n",
    "from matplotlib import pyplot as plt"
   ]
  },
  {
   "cell_type": "code",
   "execution_count": null,
   "metadata": {},
   "outputs": [],
   "source": [
    "bikeMiles = pd.Series([55,120,43,11,165,50,95,22,123,67,88,44,23,87], index = ['Day 1','Day 2','Day 3','Day 4','Day 5','Day 6','Day 7','Day 8','Day 9','Day 10','Day 11','Day 12','Day 13','Day 14'] )\n",
    "bikeMilesSet = list(zip(bikeMiles.values,bikeMiles.index))\n",
    "miles_df = pd.DataFrame(data = bikeMilesSet, columns=['Miles','Days'])\n",
    "miles_df.to_csv('MilesPerDays',index=False)\n",
    "Location = r'C:\\users\\Artem\\MilesPerDays'\n",
    "df = pd.read_csv(Location, index_col='Days')\n",
    "df\n",
    "os.remove(Location)\n",
    "\n",
    "df['Miles'].plot(kind='bar',title='Miles Per Day')\n",
    "plt.ylabel(\"Miles per day\")"
   ]
  }
 ],
 "metadata": {
  "kernelspec": {
   "display_name": "Python 3",
   "language": "python",
   "name": "python3"
  },
  "language_info": {
   "codemirror_mode": {
    "name": "ipython",
    "version": 3
   },
   "file_extension": ".py",
   "mimetype": "text/x-python",
   "name": "python",
   "nbconvert_exporter": "python",
   "pygments_lexer": "ipython3",
   "version": "3.8.3"
  }
 },
 "nbformat": 4,
 "nbformat_minor": 4
}
